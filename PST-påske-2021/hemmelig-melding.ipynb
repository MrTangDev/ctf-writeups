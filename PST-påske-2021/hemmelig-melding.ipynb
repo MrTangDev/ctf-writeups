{
 "cells": [
  {
   "cell_type": "code",
   "execution_count": 3,
   "metadata": {},
   "outputs": [
    {
     "name": "stdout",
     "output_type": "stream",
     "text": [
      "BEGYNN\\r\\nEGGNETT KONFIGURASJON SETT oppdateringskilde TIL https://github.com/paaschecomsulting/eggschange\\r\\nEGGNETT KONFIGURASJON SETT OBFUSKERT flagg TIL When the stars line up And you catch a break People think you're lucky\\r\\n\n"
     ]
    }
   ],
   "source": [
    "import string\n",
    "alphabetlist = list(string.ascii_lowercase + 'æøå123456789_' + string.ascii_uppercase + 'ÆØÅ0 \\\\:/.{}\\'-*')\n",
    "#print(alphabetlist)\n",
    "\n",
    "fh=open('nicelog2.txt')\n",
    "hashedlist = [line.rstrip() for line in fh.readlines()]\n",
    "#print(hashedlist)\n",
    "fh.close()\n",
    "\n",
    "fh=open('wiresharknice2.txt')\n",
    "wiresharklist = [line.rstrip() for line in fh.readlines()]\n",
    "#print(wiresharklist)\n",
    "fh.close()\n",
    "\n",
    "svar = ''\n",
    "for c in wiresharklist:\n",
    "    for i in range(len(hashedlist)):\n",
    "        if c == hashedlist[i]:\n",
    "            svar += alphabetlist[i]\n",
    "\n",
    "print(svar)\n"
   ]
  },
  {
   "cell_type": "code",
   "execution_count": null,
   "metadata": {},
   "outputs": [],
   "source": []
  }
 ],
 "metadata": {
  "kernelspec": {
   "display_name": "Python 3",
   "language": "python",
   "name": "python3"
  },
  "language_info": {
   "codemirror_mode": {
    "name": "ipython",
    "version": 3
   },
   "file_extension": ".py",
   "mimetype": "text/x-python",
   "name": "python",
   "nbconvert_exporter": "python",
   "pygments_lexer": "ipython3",
   "version": "3.8.3"
  }
 },
 "nbformat": 4,
 "nbformat_minor": 4
}
